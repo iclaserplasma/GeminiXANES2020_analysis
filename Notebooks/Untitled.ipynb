{
 "cells": [
  {
   "cell_type": "code",
   "execution_count": 3,
   "metadata": {},
   "outputs": [],
   "source": [
    "ross_setup_data = {\n",
    "    'ePair':0.274, # number of electrons generated per eV x-ray, tempereature dependent but if the camera is cooled it shouldn't change\n",
    "'ePerCount':21.4, # counts per electron, check table from performance report for this, depends on preamp, sensitive/capacity mode, read out rate\n",
    "'Al_layers' : 0,  #number of layers Al foil, this has changed betweeen 4 and 8 between a few runs\n",
    "'pixelSize' :13.5e-6,    #camera pixel size [m]\n",
    "'r' : 2.7+0.085,  # Distance source-detector [m] \n",
    "'Ec' : np.linspace(1e3, 25e3,100),    # critical energies to be evaluated (the more the better but also slower) [eV]\n",
    "\n",
    "}\n",
    "ross_setup_data['camResp'] = ross_setup_data['ePair']*ross_setup_data['ePerCount'],  #counts per eV\n"
   ]
  },
  {
   "cell_type": "code",
   "execution_count": 6,
   "metadata": {},
   "outputs": [
    {
     "name": "stdout",
     "output_type": "stream",
     "text": [
      "0.274\n",
      "21.4\n",
      "0\n",
      "1.35e-05\n",
      "2.785\n",
      "[ 1000.          1242.42424242  1484.84848485  1727.27272727\n",
      "  1969.6969697   2212.12121212  2454.54545455  2696.96969697\n",
      "  2939.39393939  3181.81818182  3424.24242424  3666.66666667\n",
      "  3909.09090909  4151.51515152  4393.93939394  4636.36363636\n",
      "  4878.78787879  5121.21212121  5363.63636364  5606.06060606\n",
      "  5848.48484848  6090.90909091  6333.33333333  6575.75757576\n",
      "  6818.18181818  7060.60606061  7303.03030303  7545.45454545\n",
      "  7787.87878788  8030.3030303   8272.72727273  8515.15151515\n",
      "  8757.57575758  9000.          9242.42424242  9484.84848485\n",
      "  9727.27272727  9969.6969697  10212.12121212 10454.54545455\n",
      " 10696.96969697 10939.39393939 11181.81818182 11424.24242424\n",
      " 11666.66666667 11909.09090909 12151.51515152 12393.93939394\n",
      " 12636.36363636 12878.78787879 13121.21212121 13363.63636364\n",
      " 13606.06060606 13848.48484848 14090.90909091 14333.33333333\n",
      " 14575.75757576 14818.18181818 15060.60606061 15303.03030303\n",
      " 15545.45454545 15787.87878788 16030.3030303  16272.72727273\n",
      " 16515.15151515 16757.57575758 17000.         17242.42424242\n",
      " 17484.84848485 17727.27272727 17969.6969697  18212.12121212\n",
      " 18454.54545455 18696.96969697 18939.39393939 19181.81818182\n",
      " 19424.24242424 19666.66666667 19909.09090909 20151.51515152\n",
      " 20393.93939394 20636.36363636 20878.78787879 21121.21212121\n",
      " 21363.63636364 21606.06060606 21848.48484848 22090.90909091\n",
      " 22333.33333333 22575.75757576 22818.18181818 23060.60606061\n",
      " 23303.03030303 23545.45454545 23787.87878788 24030.3030303\n",
      " 24272.72727273 24515.15151515 24757.57575758 25000.        ]\n",
      "(5.8636,)\n"
     ]
    }
   ],
   "source": [
    "for key in ross_setup_data.keys():\n",
    "    print(ross_setup_data[key])"
   ]
  },
  {
   "cell_type": "code",
   "execution_count": null,
   "metadata": {},
   "outputs": [],
   "source": []
  }
 ],
 "metadata": {
  "kernelspec": {
   "display_name": "Python 3",
   "language": "python",
   "name": "python3"
  },
  "language_info": {
   "codemirror_mode": {
    "name": "ipython",
    "version": 3
   },
   "file_extension": ".py",
   "mimetype": "text/x-python",
   "name": "python",
   "nbconvert_exporter": "python",
   "pygments_lexer": "ipython3",
   "version": "3.6.10"
  },
  "toc": {
   "base_numbering": 1,
   "nav_menu": {},
   "number_sections": true,
   "sideBar": true,
   "skip_h1_title": false,
   "title_cell": "Table of Contents",
   "title_sidebar": "Contents",
   "toc_cell": false,
   "toc_position": {},
   "toc_section_display": true,
   "toc_window_display": false
  },
  "varInspector": {
   "cols": {
    "lenName": 16,
    "lenType": 16,
    "lenVar": 40
   },
   "kernels_config": {
    "python": {
     "delete_cmd_postfix": "",
     "delete_cmd_prefix": "del ",
     "library": "var_list.py",
     "varRefreshCmd": "print(var_dic_list())"
    },
    "r": {
     "delete_cmd_postfix": ") ",
     "delete_cmd_prefix": "rm(",
     "library": "var_list.r",
     "varRefreshCmd": "cat(var_dic_list()) "
    }
   },
   "types_to_exclude": [
    "module",
    "function",
    "builtin_function_or_method",
    "instance",
    "_Feature"
   ],
   "window_display": false
  }
 },
 "nbformat": 4,
 "nbformat_minor": 4
}
