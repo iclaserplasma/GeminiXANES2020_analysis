{
 "cells": [
  {
   "cell_type": "code",
   "execution_count": 2,
   "metadata": {},
   "outputs": [],
   "source": [
    "import matplotlib.pyplot as plt\n",
    "import pickle, os, sys\n",
    "from XANES2020_code import PKG_DATA\n",
    "from XANES2020_code.general_tools import imagesc, load_object, save_object\n",
    "from XANES2020_code.Betatron_analysis import xray_analysis as xray\n",
    "from XANES2020_code.Betatron_analysis import XcomWebsiteServer as xcom"
   ]
  },
  {
   "cell_type": "code",
   "execution_count": 3,
   "metadata": {},
   "outputs": [],
   "source": [
    "muPath = os.path.join(PKG_DATA,'betatron','xcom_muFiles')\n",
    "rhoPath = os.path.join(PKG_DATA,'betatron','xcom_gpcc')\n",
    "\n",
    "fRegions = xray.fRegions\n",
    "\n",
    "cam_scint = fRegions(label=1,material ='CsI', d =150)"
   ]
  },
  {
   "cell_type": "code",
   "execution_count": 4,
   "metadata": {},
   "outputs": [
    {
     "data": {
      "text/plain": [
       "(0.0, 300.0)"
      ]
     },
     "execution_count": 4,
     "metadata": {},
     "output_type": "execute_result"
    },
    {
     "data": {
      "image/png": "[encoded data removed]",
      "text/plain": [
       "<Figure size 432x288 with 1 Axes>"
      ]
     },
     "metadata": {
      "needs_background": "light"
     },
     "output_type": "display_data"
    }
   ],
   "source": [
    "E_keV_lin = np.linspace(1,300,num=3000)\n",
    "cam_scint.mu = xcom.loadMuFile(cam_scint.material,muPath,E_keV_lin*1e-3)\n",
    "cam_scint.rho = xcom.getDensity(cam_scint.material,rhoPath)\n",
    "cam_scint.calcT_E()\n",
    "\n",
    "plt.plot(E_keV_lin,1-cam_scint.T_E)\n",
    "plt.xlim([0,300])"
   ]
  },
  {
   "cell_type": "code",
   "execution_count": 7,
   "metadata": {},
   "outputs": [],
   "source": [
    "andorQE_filepath = os.path.join(PKG_DATA,'betatron','cam_QEs/Gematron_QE_modelled.pkl')\n",
    "\n",
    "andor_gematron_QE = {\n",
    "    'E_keV': E_keV_lin,\n",
    "    'QE':  1-cam_scint.T_E\n",
    "}\n",
    "save_object(andor_gematron_QE,andorQE_filepath)\n"
   ]
  },
  {
   "cell_type": "code",
   "execution_count": null,
   "metadata": {},
   "outputs": [],
   "source": []
  }
 ],
 "metadata": {
  "kernelspec": {
   "display_name": "Python 3",
   "language": "python",
   "name": "python3"
  },
  "language_info": {
   "codemirror_mode": {
    "name": "ipython",
    "version": 3
   },
   "file_extension": ".py",
   "mimetype": "text/x-python",
   "name": "python",
   "nbconvert_exporter": "python",
   "pygments_lexer": "ipython3",
   "version": "3.6.10"
  },
  "toc": {
   "base_numbering": 1,
   "nav_menu": {},
   "number_sections": true,
   "sideBar": true,
   "skip_h1_title": false,
   "title_cell": "Table of Contents",
   "title_sidebar": "Contents",
   "toc_cell": false,
   "toc_position": {},
   "toc_section_display": true,
   "toc_window_display": false
  },
  "varInspector": {
   "cols": {
    "lenName": 16,
    "lenType": 16,
    "lenVar": 40
   },
   "kernels_config": {
    "python": {
     "delete_cmd_postfix": "",
     "delete_cmd_prefix": "del ",
     "library": "var_list.py",
     "varRefreshCmd": "print(var_dic_list())"
    },
    "r": {
     "delete_cmd_postfix": ") ",
     "delete_cmd_prefix": "rm(",
     "library": "var_list.r",
     "varRefreshCmd": "cat(var_dic_list()) "
    }
   },
   "types_to_exclude": [
    "module",
    "function",
    "builtin_function_or_method",
    "instance",
    "_Feature"
   ],
   "window_display": false
  }
 },
 "nbformat": 4,
 "nbformat_minor": 4
}
