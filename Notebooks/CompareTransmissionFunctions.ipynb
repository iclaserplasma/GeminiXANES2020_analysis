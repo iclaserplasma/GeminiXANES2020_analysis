{
 "cells": [
  {
   "cell_type": "code",
   "execution_count": 16,
   "metadata": {},
   "outputs": [],
   "source": [
    "import matplotlib.pyplot as plt\n",
    "import pickle, os, sys\n",
    "from XANES2020_code.general_tools import imagesc, load_object, choose_cal_file, get_cal_files\n",
    "import numpy as np\n",
    "from XANES2020_code.rossFilterAnalysis.rossTheoretical import E,Ttotal, Tth, Al_layers,filterBacking\n"
   ]
  },
  {
   "cell_type": "code",
   "execution_count": 15,
   "metadata": {},
   "outputs": [
    {
     "name": "stdout",
     "output_type": "stream",
     "text": [
      "Material  ['Mylar', 'Al', 'Air', 'Be', 'C35H28N2O7']\n",
      "Thickness [microns] [27.6, 48, 85000.0, 250, 150]\n"
     ]
    }
   ],
   "source": [
    "run_name = '20200907/run01'\n",
    "diag = 'Lundatron'\n",
    "shot_num = 48\n",
    "\n",
    "# mask_filepath = os.path.join(XRAY_CODE_PATH,r'filter_masks/20200827_run09_Lundatron_filter_masks.pkl')\n",
    "mask_filepath = choose_cal_file(run_name,shot_num,diag,'Lundatron_filter_masks')\n",
    "mask_obj=load_object(mask_filepath)\n",
    "\n",
    "filter_filepath = choose_cal_file(run_name,shot_num,diag,'Lundatron_filter_pack')\n",
    "filter_obj = load_object(filter_filepath)\n",
    "\n",
    "null_trans = 1\n",
    "for reg in filter_obj['null_fRegions']:\n",
    "    null_trans = null_trans*reg.T_E\n",
    "    \n",
    "E_keV = reg.E_keV\n",
    "print('Material  ' + str([x.material for x in filter_obj['null_fRegions']]))\n",
    "print('Thickness [microns] ' + str([x.d for x in filter_obj['null_fRegions']]))\n"
   ]
  },
  {
   "cell_type": "code",
   "execution_count": 18,
   "metadata": {},
   "outputs": [
    {
     "data": {
      "text/plain": [
       "[<matplotlib.lines.Line2D at 0x1c25f5dc18>]"
      ]
     },
     "execution_count": 18,
     "metadata": {},
     "output_type": "execute_result"
    },
    {
     "data": {
      "image/png": "[encoded data removed]",
      "text/plain": [
       "<Figure size 432x288 with 1 Axes>"
      ]
     },
     "metadata": {
      "needs_background": "light"
     },
     "output_type": "display_data"
    }
   ],
   "source": [
    "plt.plot(E_keV,null_trans)\n",
    "plt.plot(E*1e-3,Ttotal)"
   ]
  },
  {
   "cell_type": "code",
   "execution_count": null,
   "metadata": {},
   "outputs": [],
   "source": []
  },
  {
   "cell_type": "code",
   "execution_count": null,
   "metadata": {},
   "outputs": [],
   "source": []
  }
 ],
 "metadata": {
  "kernelspec": {
   "display_name": "Python 3",
   "language": "python",
   "name": "python3"
  },
  "language_info": {
   "codemirror_mode": {
    "name": "ipython",
    "version": 3
   },
   "file_extension": ".py",
   "mimetype": "text/x-python",
   "name": "python",
   "nbconvert_exporter": "python",
   "pygments_lexer": "ipython3",
   "version": "3.6.10"
  },
  "toc": {
   "base_numbering": 1,
   "nav_menu": {},
   "number_sections": true,
   "sideBar": true,
   "skip_h1_title": false,
   "title_cell": "Table of Contents",
   "title_sidebar": "Contents",
   "toc_cell": false,
   "toc_position": {},
   "toc_section_display": true,
   "toc_window_display": false
  },
  "varInspector": {
   "cols": {
    "lenName": 16,
    "lenType": 16,
    "lenVar": 40
   },
   "kernels_config": {
    "python": {
     "delete_cmd_postfix": "",
     "delete_cmd_prefix": "del ",
     "library": "var_list.py",
     "varRefreshCmd": "print(var_dic_list())"
    },
    "r": {
     "delete_cmd_postfix": ") ",
     "delete_cmd_prefix": "rm(",
     "library": "var_list.r",
     "varRefreshCmd": "cat(var_dic_list()) "
    }
   },
   "types_to_exclude": [
    "module",
    "function",
    "builtin_function_or_method",
    "instance",
    "_Feature"
   ],
   "window_display": false
  }
 },
 "nbformat": 4,
 "nbformat_minor": 4
}
